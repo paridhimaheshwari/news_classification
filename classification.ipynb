{
 "cells": [
  {
   "cell_type": "markdown",
   "metadata": {},
   "source": [
    "# Articles Multiclass Classifier"
   ]
  },
  {
   "cell_type": "code",
   "execution_count": 1,
   "metadata": {},
   "outputs": [],
   "source": [
    "import numpy as np \n",
    "import pandas as pd \n",
    "import nltk\n",
    "import string as s\n",
    "from nltk.corpus import stopwords\n",
    "import matplotlib.pyplot as plt\n",
    "from sklearn.naive_bayes import MultinomialNB \n",
    "%matplotlib inline\n",
    "import seaborn as sns\n",
    "import re\n",
    "import os\n",
    "for dirname, _, filenames in os.walk('/kaggle/input'):\n",
    "    for filename in filenames:\n",
    "        print(os.path.join(dirname, filename))"
   ]
  },
  {
   "cell_type": "code",
   "execution_count": 3,
   "metadata": {},
   "outputs": [
    {
     "name": "stdout",
     "output_type": "stream",
     "text": [
      "Looking in indexes: https://pypi.org/simple, https://pypi.ngc.nvidia.com\n",
      "Collecting scipi\n",
      "  Downloading scipi-3.0-py3-none-any.whl (12 kB)\n",
      "Installing collected packages: scipi\n",
      "Successfully installed scipi-3.0\n"
     ]
    }
   ],
   "source": [
    "!pip install scipi"
   ]
  },
  {
   "cell_type": "code",
   "execution_count": 4,
   "metadata": {
    "scrolled": true
   },
   "outputs": [],
   "source": [
    "import scipi as sc"
   ]
  },
  {
   "cell_type": "markdown",
   "metadata": {},
   "source": [
    "#### There are 4 classes of news articles: \n",
    "1. World News\n",
    "2. Sports News\n",
    "3. Business News\n",
    "4. Sci-Tech News"
   ]
  },
  {
   "cell_type": "code",
   "execution_count": 6,
   "metadata": {},
   "outputs": [],
   "source": [
    "train_data=pd.read_csv(\"/home/vineet/workspace/paridhi/nlp/train.csv\",header=0,names=['classid','title','desc'])\n",
    "test_data=pd.read_csv(\"/home/vineet/workspace/paridhi/nlp/test.csv\",header=0,names=['classid','title','desc'])"
   ]
  },
  {
   "cell_type": "markdown",
   "metadata": {},
   "source": [
    "## Analysing the data "
   ]
  },
  {
   "cell_type": "code",
   "execution_count": 7,
   "metadata": {},
   "outputs": [
    {
     "data": {
      "text/html": [
       "<div>\n",
       "<style scoped>\n",
       "    .dataframe tbody tr th:only-of-type {\n",
       "        vertical-align: middle;\n",
       "    }\n",
       "\n",
       "    .dataframe tbody tr th {\n",
       "        vertical-align: top;\n",
       "    }\n",
       "\n",
       "    .dataframe thead th {\n",
       "        text-align: right;\n",
       "    }\n",
       "</style>\n",
       "<table border=\"1\" class=\"dataframe\">\n",
       "  <thead>\n",
       "    <tr style=\"text-align: right;\">\n",
       "      <th></th>\n",
       "      <th>classid</th>\n",
       "      <th>title</th>\n",
       "      <th>desc</th>\n",
       "    </tr>\n",
       "  </thead>\n",
       "  <tbody>\n",
       "    <tr>\n",
       "      <th>0</th>\n",
       "      <td>3</td>\n",
       "      <td>Wall St. Bears Claw Back Into the Black (Reuters)</td>\n",
       "      <td>Reuters - Short-sellers, Wall Street's dwindli...</td>\n",
       "    </tr>\n",
       "    <tr>\n",
       "      <th>1</th>\n",
       "      <td>3</td>\n",
       "      <td>Carlyle Looks Toward Commercial Aerospace (Reu...</td>\n",
       "      <td>Reuters - Private investment firm Carlyle Grou...</td>\n",
       "    </tr>\n",
       "    <tr>\n",
       "      <th>2</th>\n",
       "      <td>3</td>\n",
       "      <td>Oil and Economy Cloud Stocks' Outlook (Reuters)</td>\n",
       "      <td>Reuters - Soaring crude prices plus worries\\ab...</td>\n",
       "    </tr>\n",
       "    <tr>\n",
       "      <th>3</th>\n",
       "      <td>3</td>\n",
       "      <td>Iraq Halts Oil Exports from Main Southern Pipe...</td>\n",
       "      <td>Reuters - Authorities have halted oil export\\f...</td>\n",
       "    </tr>\n",
       "    <tr>\n",
       "      <th>4</th>\n",
       "      <td>3</td>\n",
       "      <td>Oil prices soar to all-time record, posing new...</td>\n",
       "      <td>AFP - Tearaway world oil prices, toppling reco...</td>\n",
       "    </tr>\n",
       "  </tbody>\n",
       "</table>\n",
       "</div>"
      ],
      "text/plain": [
       "   classid                                              title  \\\n",
       "0        3  Wall St. Bears Claw Back Into the Black (Reuters)   \n",
       "1        3  Carlyle Looks Toward Commercial Aerospace (Reu...   \n",
       "2        3    Oil and Economy Cloud Stocks' Outlook (Reuters)   \n",
       "3        3  Iraq Halts Oil Exports from Main Southern Pipe...   \n",
       "4        3  Oil prices soar to all-time record, posing new...   \n",
       "\n",
       "                                                desc  \n",
       "0  Reuters - Short-sellers, Wall Street's dwindli...  \n",
       "1  Reuters - Private investment firm Carlyle Grou...  \n",
       "2  Reuters - Soaring crude prices plus worries\\ab...  \n",
       "3  Reuters - Authorities have halted oil export\\f...  \n",
       "4  AFP - Tearaway world oil prices, toppling reco...  "
      ]
     },
     "execution_count": 7,
     "metadata": {},
     "output_type": "execute_result"
    }
   ],
   "source": [
    "train_data.head()\n"
   ]
  },
  {
   "cell_type": "code",
   "execution_count": 8,
   "metadata": {},
   "outputs": [
    {
     "data": {
      "text/html": [
       "<div>\n",
       "<style scoped>\n",
       "    .dataframe tbody tr th:only-of-type {\n",
       "        vertical-align: middle;\n",
       "    }\n",
       "\n",
       "    .dataframe tbody tr th {\n",
       "        vertical-align: top;\n",
       "    }\n",
       "\n",
       "    .dataframe thead th {\n",
       "        text-align: right;\n",
       "    }\n",
       "</style>\n",
       "<table border=\"1\" class=\"dataframe\">\n",
       "  <thead>\n",
       "    <tr style=\"text-align: right;\">\n",
       "      <th></th>\n",
       "      <th>classid</th>\n",
       "      <th>title</th>\n",
       "      <th>desc</th>\n",
       "    </tr>\n",
       "  </thead>\n",
       "  <tbody>\n",
       "    <tr>\n",
       "      <th>0</th>\n",
       "      <td>3</td>\n",
       "      <td>Fears for T N pension after talks</td>\n",
       "      <td>Unions representing workers at Turner   Newall...</td>\n",
       "    </tr>\n",
       "    <tr>\n",
       "      <th>1</th>\n",
       "      <td>4</td>\n",
       "      <td>The Race is On: Second Private Team Sets Launc...</td>\n",
       "      <td>SPACE.com - TORONTO, Canada -- A second\\team o...</td>\n",
       "    </tr>\n",
       "    <tr>\n",
       "      <th>2</th>\n",
       "      <td>4</td>\n",
       "      <td>Ky. Company Wins Grant to Study Peptides (AP)</td>\n",
       "      <td>AP - A company founded by a chemistry research...</td>\n",
       "    </tr>\n",
       "    <tr>\n",
       "      <th>3</th>\n",
       "      <td>4</td>\n",
       "      <td>Prediction Unit Helps Forecast Wildfires (AP)</td>\n",
       "      <td>AP - It's barely dawn when Mike Fitzpatrick st...</td>\n",
       "    </tr>\n",
       "    <tr>\n",
       "      <th>4</th>\n",
       "      <td>4</td>\n",
       "      <td>Calif. Aims to Limit Farm-Related Smog (AP)</td>\n",
       "      <td>AP - Southern California's smog-fighting agenc...</td>\n",
       "    </tr>\n",
       "  </tbody>\n",
       "</table>\n",
       "</div>"
      ],
      "text/plain": [
       "   classid                                              title  \\\n",
       "0        3                  Fears for T N pension after talks   \n",
       "1        4  The Race is On: Second Private Team Sets Launc...   \n",
       "2        4      Ky. Company Wins Grant to Study Peptides (AP)   \n",
       "3        4      Prediction Unit Helps Forecast Wildfires (AP)   \n",
       "4        4        Calif. Aims to Limit Farm-Related Smog (AP)   \n",
       "\n",
       "                                                desc  \n",
       "0  Unions representing workers at Turner   Newall...  \n",
       "1  SPACE.com - TORONTO, Canada -- A second\\team o...  \n",
       "2  AP - A company founded by a chemistry research...  \n",
       "3  AP - It's barely dawn when Mike Fitzpatrick st...  \n",
       "4  AP - Southern California's smog-fighting agenc...  "
      ]
     },
     "execution_count": 8,
     "metadata": {},
     "output_type": "execute_result"
    }
   ],
   "source": [
    "test_data.head()\n"
   ]
  },
  {
   "cell_type": "code",
   "execution_count": 9,
   "metadata": {},
   "outputs": [
    {
     "data": {
      "text/plain": [
       "(120000, 3)"
      ]
     },
     "execution_count": 9,
     "metadata": {},
     "output_type": "execute_result"
    }
   ],
   "source": [
    "train_data.shape\n"
   ]
  },
  {
   "cell_type": "code",
   "execution_count": 10,
   "metadata": {},
   "outputs": [
    {
     "data": {
      "text/plain": [
       "(7600, 3)"
      ]
     },
     "execution_count": 10,
     "metadata": {},
     "output_type": "execute_result"
    }
   ],
   "source": [
    "test_data.shape\n"
   ]
  },
  {
   "cell_type": "code",
   "execution_count": 11,
   "metadata": {},
   "outputs": [
    {
     "data": {
      "text/plain": [
       "array([3, 3, 3, ..., 2, 2, 2])"
      ]
     },
     "execution_count": 11,
     "metadata": {},
     "output_type": "execute_result"
    }
   ],
   "source": [
    "train_data.classid.values"
   ]
  },
  {
   "cell_type": "code",
   "execution_count": null,
   "metadata": {},
   "outputs": [],
   "source": []
  },
  {
   "cell_type": "markdown",
   "metadata": {},
   "source": [
    "#### Exploring plots: count plot of Train Data"
   ]
  },
  {
   "cell_type": "code",
   "execution_count": 12,
   "metadata": {},
   "outputs": [
    {
     "data": {
      "image/png": "[encoded data removed]",
      "text/plain": [
       "<Figure size 640x480 with 1 Axes>"
      ]
     },
     "metadata": {},
     "output_type": "display_data"
    }
   ],
   "source": [
    "sns.countplot(train_data, x='classid');"
   ]
  },
  {
   "cell_type": "code",
   "execution_count": 13,
   "metadata": {},
   "outputs": [
    {
     "data": {
      "image/png": "[encoded data removed]",
      "text/plain": [
       "<Figure size 640x480 with 1 Axes>"
      ]
     },
     "metadata": {},
     "output_type": "display_data"
    }
   ],
   "source": [
    "sns.countplot(test_data, x = test_data.classid);\n"
   ]
  },
  {
   "cell_type": "markdown",
   "metadata": {},
   "source": [
    "#### Splitting Data into Input and Label¶\n"
   ]
  },
  {
   "cell_type": "code",
   "execution_count": 14,
   "metadata": {},
   "outputs": [],
   "source": [
    "train_x=train_data.desc\n",
    "test_x=test_data.desc\n",
    "train_y=train_data.classid\n",
    "test_y=test_data.classid"
   ]
  },
  {
   "cell_type": "markdown",
   "metadata": {},
   "source": [
    "### Preprocessing of Data\n",
    "##### In NLP: there are three processes:\n",
    "1. Tokenization\n",
    "\n",
    "2. Lemmatization\n",
    "\n",
    "3. Stemming\n",
    "\n"
   ]
  },
  {
   "cell_type": "markdown",
   "metadata": {},
   "source": [
    "#### Removal of HTML tags\n"
   ]
  },
  {
   "cell_type": "code",
   "execution_count": 15,
   "metadata": {},
   "outputs": [],
   "source": [
    "def remove_html(text):\n",
    "    html_pattern = re.compile('<.*?>')\n",
    "    return html_pattern.sub(r'', text)\n",
    "\n",
    "train_x=train_x.apply(remove_html)\n",
    "test_x=test_x.apply(remove_html)\n"
   ]
  },
  {
   "cell_type": "markdown",
   "metadata": {},
   "source": [
    "#### Removal of URLs"
   ]
  },
  {
   "cell_type": "code",
   "execution_count": 16,
   "metadata": {},
   "outputs": [],
   "source": [
    "def remove_urls(text):\n",
    "    url_pattern = re.compile(r'https?://\\S+|www\\.\\S+')\n",
    "    return url_pattern.sub(r'', text)\n",
    "\n",
    "train_x=train_x.apply(remove_urls)\n",
    "test_x=test_x.apply(remove_urls)"
   ]
  },
  {
   "cell_type": "markdown",
   "metadata": {},
   "source": [
    "#### Tokenization of Data\n"
   ]
  },
  {
   "cell_type": "code",
   "execution_count": 17,
   "metadata": {},
   "outputs": [],
   "source": [
    "def word_tokenize(txt):\n",
    "    tokens = re.findall(\"[\\w']+\", txt)\n",
    "    return tokens\n",
    "train_x=train_x.apply(word_tokenize)\n",
    "test_x=test_x.apply(word_tokenize)\n"
   ]
  },
  {
   "cell_type": "markdown",
   "metadata": {},
   "source": [
    "#### Removal of Stopwords\n"
   ]
  },
  {
   "cell_type": "code",
   "execution_count": 18,
   "metadata": {},
   "outputs": [],
   "source": [
    "def remove_stopwords(lst):\n",
    "    stop=stopwords.words('english')\n",
    "    new_lst=[]\n",
    "    for i in lst:\n",
    "        if i.lower() not in stop:\n",
    "            new_lst.append(i)\n",
    "    return new_lst\n",
    "\n",
    "train_x=train_x.apply(remove_stopwords)\n",
    "test_x=test_x.apply(remove_stopwords) \n"
   ]
  },
  {
   "cell_type": "markdown",
   "metadata": {},
   "source": [
    "#### Removal of Punctuation Symbols¶\n"
   ]
  },
  {
   "cell_type": "markdown",
   "metadata": {},
   "source": []
  },
  {
   "cell_type": "code",
   "execution_count": 19,
   "metadata": {},
   "outputs": [],
   "source": [
    "def remove_punctuations(lst):\n",
    "    new_lst=[]\n",
    "    for i in lst:\n",
    "        for  j in  s.punctuation:\n",
    "            i=i.replace(j,'')\n",
    "        new_lst.append(i)\n",
    "    return new_lst\n",
    "train_x=train_x.apply(remove_punctuations) \n",
    "test_x=test_x.apply(remove_punctuations)\n"
   ]
  },
  {
   "cell_type": "markdown",
   "metadata": {},
   "source": [
    "#### Removal of Numbers(digits)"
   ]
  },
  {
   "cell_type": "code",
   "execution_count": 20,
   "metadata": {},
   "outputs": [],
   "source": [
    "def remove_numbers(lst):\n",
    "    nodig_lst=[]\n",
    "    new_lst=[]\n",
    "\n",
    "    for i in  lst:\n",
    "        for j in  s.digits:\n",
    "            i=i.replace(j,'')\n",
    "        nodig_lst.append(i)\n",
    "    for i in  nodig_lst:\n",
    "        if  i!='':\n",
    "            new_lst.append(i)\n",
    "    return new_lst\n",
    "train_x=train_x.apply(remove_numbers)\n",
    "test_x=test_x.apply(remove_numbers)\n"
   ]
  },
  {
   "cell_type": "markdown",
   "metadata": {},
   "source": [
    "#### Stemming of Dataset\n"
   ]
  },
  {
   "cell_type": "code",
   "execution_count": 21,
   "metadata": {},
   "outputs": [
    {
     "name": "stdout",
     "output_type": "stream",
     "text": [
      "Train_x: (Post Stemming):- \n"
     ]
    },
    {
     "data": {
      "text/plain": [
       "0         [reuter, short, seller, wall, street, dwindl, ...\n",
       "1         [reuter, privat, invest, firm, carlyl, group, ...\n",
       "2         [reuter, soar, crude, price, plu, worri, econo...\n",
       "3         [reuter, author, halt, oil, export, flow, main...\n",
       "4         [afp, tearaway, world, oil, price, toppl, reco...\n",
       "                                ...                        \n",
       "119995    [karachi, reuter, pakistani, presid, pervez, m...\n",
       "119996    [red, sox, gener, manag, theo, epstein, acknow...\n",
       "119997    [miami, dolphin, put, courtship, lsu, coach, n...\n",
       "119998    [pittsburgh, ny, giant, time, p, line, steeler...\n",
       "119999    [indianapoli, star, vinc, carter, trade, toron...\n",
       "Name: desc, Length: 120000, dtype: object"
      ]
     },
     "execution_count": 21,
     "metadata": {},
     "output_type": "execute_result"
    }
   ],
   "source": [
    "import nltk\n",
    "\n",
    "def stemming(text):\n",
    "    porter_stemmer = nltk.PorterStemmer()\n",
    "    roots = [porter_stemmer.stem(each) for each in text]\n",
    "    return (roots)\n",
    "\n",
    "train_x=train_x.apply(stemming)\n",
    "test_x=test_x.apply(stemming)\n",
    "\n",
    "print(\"Train_x: (Post Stemming):- \")\n",
    "train_x\n"
   ]
  },
  {
   "cell_type": "markdown",
   "metadata": {},
   "source": [
    "#### Lemmatization of Data\n",
    "(using WordNet lemmatizer)\n"
   ]
  },
  {
   "cell_type": "markdown",
   "metadata": {},
   "source": []
  },
  {
   "cell_type": "code",
   "execution_count": 22,
   "metadata": {},
   "outputs": [],
   "source": [
    "lemmatizer=nltk.stem.WordNetLemmatizer()\n",
    "def lemmatzation(lst):\n",
    "    new_lst=[]\n",
    "    for i in lst:\n",
    "        i=lemmatizer.lemmatize(i)\n",
    "        new_lst.append(i)\n",
    "    return new_lst\n",
    "train_x=train_x.apply(lemmatzation)\n",
    "test_x=test_x.apply(lemmatzation)\n"
   ]
  },
  {
   "cell_type": "code",
   "execution_count": 23,
   "metadata": {},
   "outputs": [
    {
     "name": "stdout",
     "output_type": "stream",
     "text": [
      "Train_x: (Post Lemmatisation):- \n"
     ]
    },
    {
     "data": {
      "text/plain": [
       "0         [reuter, short, seller, wall, street, dwindl, ...\n",
       "1         [reuter, privat, invest, firm, carlyl, group, ...\n",
       "2         [reuter, soar, crude, price, plu, worri, econo...\n",
       "3         [reuter, author, halt, oil, export, flow, main...\n",
       "4         [afp, tearaway, world, oil, price, toppl, reco...\n",
       "                                ...                        \n",
       "119995    [karachi, reuter, pakistani, presid, pervez, m...\n",
       "119996    [red, sox, gener, manag, theo, epstein, acknow...\n",
       "119997    [miami, dolphin, put, courtship, lsu, coach, n...\n",
       "119998    [pittsburgh, ny, giant, time, p, line, steeler...\n",
       "119999    [indianapoli, star, vinc, carter, trade, toron...\n",
       "Name: desc, Length: 120000, dtype: object"
      ]
     },
     "execution_count": 23,
     "metadata": {},
     "output_type": "execute_result"
    }
   ],
   "source": [
    "print(\"Train_x: (Post Lemmatisation):- \")\n",
    "train_x"
   ]
  },
  {
   "cell_type": "code",
   "execution_count": 24,
   "metadata": {},
   "outputs": [],
   "source": [
    "def remove_extrawords(lst):\n",
    "    stop=['href','lt','gt','ii','iii','ie','quot','com']\n",
    "    new_lst=[]\n",
    "    for i in lst:\n",
    "        if i not in stop:\n",
    "            new_lst.append(i)\n",
    "    return new_lst\n",
    "\n",
    "train_x=train_x.apply(remove_extrawords)\n",
    "test_x=test_x.apply(remove_extrawords) \n"
   ]
  },
  {
   "cell_type": "code",
   "execution_count": 25,
   "metadata": {},
   "outputs": [
    {
     "name": "stdout",
     "output_type": "stream",
     "text": [
      "Train_x: (Post removal of stopwords):- \n"
     ]
    },
    {
     "data": {
      "text/plain": [
       "0         [reuter, short, seller, wall, street, dwindl, ...\n",
       "1         [reuter, privat, invest, firm, carlyl, group, ...\n",
       "2         [reuter, soar, crude, price, plu, worri, econo...\n",
       "3         [reuter, author, halt, oil, export, flow, main...\n",
       "4         [afp, tearaway, world, oil, price, toppl, reco...\n",
       "                                ...                        \n",
       "119995    [karachi, reuter, pakistani, presid, pervez, m...\n",
       "119996    [red, sox, gener, manag, theo, epstein, acknow...\n",
       "119997    [miami, dolphin, put, courtship, lsu, coach, n...\n",
       "119998    [pittsburgh, ny, giant, time, p, line, steeler...\n",
       "119999    [indianapoli, star, vinc, carter, trade, toron...\n",
       "Name: desc, Length: 120000, dtype: object"
      ]
     },
     "execution_count": 25,
     "metadata": {},
     "output_type": "execute_result"
    }
   ],
   "source": [
    "print(\"Train_x: (Post removal of stopwords):- \")\n",
    "train_x"
   ]
  },
  {
   "cell_type": "code",
   "execution_count": 26,
   "metadata": {},
   "outputs": [],
   "source": [
    "train_x=train_x.apply(lambda x: ''.join(i+' ' for i in x))\n",
    "test_x=test_x.apply(lambda x: ''.join(i+' '  for i in x))"
   ]
  },
  {
   "cell_type": "code",
   "execution_count": 27,
   "metadata": {},
   "outputs": [
    {
     "data": {
      "text/plain": [
       "0         reuter short seller wall street dwindl band ul...\n",
       "1         reuter privat invest firm carlyl group reput m...\n",
       "2         reuter soar crude price plu worri economi outl...\n",
       "3         reuter author halt oil export flow main pipeli...\n",
       "4         afp tearaway world oil price toppl record stra...\n",
       "                                ...                        \n",
       "119995    karachi reuter pakistani presid pervez musharr...\n",
       "119996    red sox gener manag theo epstein acknowledg ed...\n",
       "119997    miami dolphin put courtship lsu coach nick sab...\n",
       "119998    pittsburgh ny giant time p line steeler record...\n",
       "119999    indianapoli star vinc carter trade toronto rap...\n",
       "Name: desc, Length: 120000, dtype: object"
      ]
     },
     "execution_count": 27,
     "metadata": {},
     "output_type": "execute_result"
    }
   ],
   "source": [
    "# After pre processing, joining the strings\n",
    "train_x"
   ]
  },
  {
   "cell_type": "markdown",
   "metadata": {},
   "source": [
    "#### Feature Extraction (To reduce the number of features) \n",
    "* In NLP problem statements, TF-IDF matrix (Term Frequency - Inverse Document Frequency) is used for this purpose."
   ]
  },
  {
   "cell_type": "markdown",
   "metadata": {},
   "source": []
  },
  {
   "cell_type": "code",
   "execution_count": 28,
   "metadata": {},
   "outputs": [
    {
     "name": "stdout",
     "output_type": "stream",
     "text": [
      "No. of features extracted\n",
      "59356\n",
      "['aa' 'aa billion' 'aa footbal' 'aaa' 'aapl' 'aaron' 'aaron peirsol'\n",
      " 'aaron rodger' 'ab' 'ababa' 'abandon' 'abandon microsoft'\n",
      " 'abandon microsoft window' 'abandon nuclear' 'abandon plan' 'abat' 'abba'\n",
      " 'abba said' 'abbey' 'abbey nation' 'abbey nation plc' 'abbi'\n",
      " 'abbi wambach' 'abbott' 'abbott laboratori' 'abc' 'abc monday'\n",
      " 'abc monday night' 'abc new' 'abdic' 'abduct' 'abduct gunpoint'\n",
      " 'abduct iraq' 'abduct three' 'abduct two' 'abductor' 'abdul'\n",
      " 'abdul kalam' 'abdullah' 'abdullah ahmad' 'abdullah ahmad badawi'\n",
      " 'aberdeen' 'abid' 'abidjan' 'abidjan ivori' 'abidjan ivori coast'\n",
      " 'abidjan reuter' 'abil' 'abil run' 'abimael' 'abimael guzman' 'abkhazia'\n",
      " 'abl' 'abl buy' 'abl get' 'abl make' 'abl play' 'abl take' 'abl use'\n",
      " 'ablaz' 'abn' 'abn amro' 'aboard' 'aboard intern' 'aboard intern space'\n",
      " 'abolish' 'aborigin' 'abort' 'abort right' 'abound' 'abraham'\n",
      " 'abramovich' 'abroad' 'abrupt' 'abruptli' 'abruptli resign' 'absa'\n",
      " 'absenc' 'absent' 'absente' 'absente ballot' 'absolut' 'absorb'\n",
      " 'abstract' 'abu' 'abu bakar' 'abu bakar ba' 'abu bakar bashir'\n",
      " 'abu dhabi' 'abu ghraib' 'abu ghraib prison' 'abu hamza' 'abu hamza al'\n",
      " 'abu musab' 'abu musab al' 'abu musab zarqawi' 'abu sayyaf' 'abuja'\n",
      " 'abuja nigeria' 'abuja nigeria reuter']\n"
     ]
    }
   ],
   "source": [
    "from sklearn.feature_extraction.text import TfidfVectorizer\n",
    "tfidf=TfidfVectorizer(min_df=8,ngram_range=(1,3))\n",
    "train_1=tfidf.fit_transform(train_x)\n",
    "test_1=tfidf.transform(test_x)\n",
    "print(\"No. of features extracted\")\n",
    "print(len(tfidf.get_feature_names_out()))\n",
    "print(tfidf.get_feature_names_out()[:100])\n",
    "\n",
    "train_arr=train_1.toarray()\n",
    "test_arr=test_1.toarray()"
   ]
  },
  {
   "cell_type": "code",
   "execution_count": 29,
   "metadata": {},
   "outputs": [
    {
     "data": {
      "text/html": [
       "<div>\n",
       "<style scoped>\n",
       "    .dataframe tbody tr th:only-of-type {\n",
       "        vertical-align: middle;\n",
       "    }\n",
       "\n",
       "    .dataframe tbody tr th {\n",
       "        vertical-align: top;\n",
       "    }\n",
       "\n",
       "    .dataframe thead th {\n",
       "        text-align: right;\n",
       "    }\n",
       "</style>\n",
       "<table border=\"1\" class=\"dataframe\">\n",
       "  <thead>\n",
       "    <tr style=\"text-align: right;\">\n",
       "      <th></th>\n",
       "      <th>aa</th>\n",
       "      <th>aa billion</th>\n",
       "      <th>aa footbal</th>\n",
       "      <th>aaa</th>\n",
       "      <th>aapl</th>\n",
       "      <th>aaron</th>\n",
       "      <th>aaron peirsol</th>\n",
       "      <th>aaron rodger</th>\n",
       "      <th>ab</th>\n",
       "      <th>ababa</th>\n",
       "      <th>...</th>\n",
       "      <th>zone govern</th>\n",
       "      <th>zoo</th>\n",
       "      <th>zook</th>\n",
       "      <th>zook fire</th>\n",
       "      <th>zoom</th>\n",
       "      <th>zurich</th>\n",
       "      <th>zurich challeng</th>\n",
       "      <th>zurich reuter</th>\n",
       "      <th>zurich switzerland</th>\n",
       "      <th>zvonareva</th>\n",
       "    </tr>\n",
       "  </thead>\n",
       "  <tbody>\n",
       "    <tr>\n",
       "      <th>0</th>\n",
       "      <td>0.0</td>\n",
       "      <td>0.0</td>\n",
       "      <td>0.0</td>\n",
       "      <td>0.0</td>\n",
       "      <td>0.0</td>\n",
       "      <td>0.0</td>\n",
       "      <td>0.0</td>\n",
       "      <td>0.0</td>\n",
       "      <td>0.0</td>\n",
       "      <td>0.0</td>\n",
       "      <td>...</td>\n",
       "      <td>0.0</td>\n",
       "      <td>0.0</td>\n",
       "      <td>0.0</td>\n",
       "      <td>0.0</td>\n",
       "      <td>0.0</td>\n",
       "      <td>0.0</td>\n",
       "      <td>0.0</td>\n",
       "      <td>0.0</td>\n",
       "      <td>0.0</td>\n",
       "      <td>0.0</td>\n",
       "    </tr>\n",
       "    <tr>\n",
       "      <th>1</th>\n",
       "      <td>0.0</td>\n",
       "      <td>0.0</td>\n",
       "      <td>0.0</td>\n",
       "      <td>0.0</td>\n",
       "      <td>0.0</td>\n",
       "      <td>0.0</td>\n",
       "      <td>0.0</td>\n",
       "      <td>0.0</td>\n",
       "      <td>0.0</td>\n",
       "      <td>0.0</td>\n",
       "      <td>...</td>\n",
       "      <td>0.0</td>\n",
       "      <td>0.0</td>\n",
       "      <td>0.0</td>\n",
       "      <td>0.0</td>\n",
       "      <td>0.0</td>\n",
       "      <td>0.0</td>\n",
       "      <td>0.0</td>\n",
       "      <td>0.0</td>\n",
       "      <td>0.0</td>\n",
       "      <td>0.0</td>\n",
       "    </tr>\n",
       "    <tr>\n",
       "      <th>2</th>\n",
       "      <td>0.0</td>\n",
       "      <td>0.0</td>\n",
       "      <td>0.0</td>\n",
       "      <td>0.0</td>\n",
       "      <td>0.0</td>\n",
       "      <td>0.0</td>\n",
       "      <td>0.0</td>\n",
       "      <td>0.0</td>\n",
       "      <td>0.0</td>\n",
       "      <td>0.0</td>\n",
       "      <td>...</td>\n",
       "      <td>0.0</td>\n",
       "      <td>0.0</td>\n",
       "      <td>0.0</td>\n",
       "      <td>0.0</td>\n",
       "      <td>0.0</td>\n",
       "      <td>0.0</td>\n",
       "      <td>0.0</td>\n",
       "      <td>0.0</td>\n",
       "      <td>0.0</td>\n",
       "      <td>0.0</td>\n",
       "    </tr>\n",
       "    <tr>\n",
       "      <th>3</th>\n",
       "      <td>0.0</td>\n",
       "      <td>0.0</td>\n",
       "      <td>0.0</td>\n",
       "      <td>0.0</td>\n",
       "      <td>0.0</td>\n",
       "      <td>0.0</td>\n",
       "      <td>0.0</td>\n",
       "      <td>0.0</td>\n",
       "      <td>0.0</td>\n",
       "      <td>0.0</td>\n",
       "      <td>...</td>\n",
       "      <td>0.0</td>\n",
       "      <td>0.0</td>\n",
       "      <td>0.0</td>\n",
       "      <td>0.0</td>\n",
       "      <td>0.0</td>\n",
       "      <td>0.0</td>\n",
       "      <td>0.0</td>\n",
       "      <td>0.0</td>\n",
       "      <td>0.0</td>\n",
       "      <td>0.0</td>\n",
       "    </tr>\n",
       "    <tr>\n",
       "      <th>4</th>\n",
       "      <td>0.0</td>\n",
       "      <td>0.0</td>\n",
       "      <td>0.0</td>\n",
       "      <td>0.0</td>\n",
       "      <td>0.0</td>\n",
       "      <td>0.0</td>\n",
       "      <td>0.0</td>\n",
       "      <td>0.0</td>\n",
       "      <td>0.0</td>\n",
       "      <td>0.0</td>\n",
       "      <td>...</td>\n",
       "      <td>0.0</td>\n",
       "      <td>0.0</td>\n",
       "      <td>0.0</td>\n",
       "      <td>0.0</td>\n",
       "      <td>0.0</td>\n",
       "      <td>0.0</td>\n",
       "      <td>0.0</td>\n",
       "      <td>0.0</td>\n",
       "      <td>0.0</td>\n",
       "      <td>0.0</td>\n",
       "    </tr>\n",
       "    <tr>\n",
       "      <th>...</th>\n",
       "      <td>...</td>\n",
       "      <td>...</td>\n",
       "      <td>...</td>\n",
       "      <td>...</td>\n",
       "      <td>...</td>\n",
       "      <td>...</td>\n",
       "      <td>...</td>\n",
       "      <td>...</td>\n",
       "      <td>...</td>\n",
       "      <td>...</td>\n",
       "      <td>...</td>\n",
       "      <td>...</td>\n",
       "      <td>...</td>\n",
       "      <td>...</td>\n",
       "      <td>...</td>\n",
       "      <td>...</td>\n",
       "      <td>...</td>\n",
       "      <td>...</td>\n",
       "      <td>...</td>\n",
       "      <td>...</td>\n",
       "      <td>...</td>\n",
       "    </tr>\n",
       "    <tr>\n",
       "      <th>95</th>\n",
       "      <td>0.0</td>\n",
       "      <td>0.0</td>\n",
       "      <td>0.0</td>\n",
       "      <td>0.0</td>\n",
       "      <td>0.0</td>\n",
       "      <td>0.0</td>\n",
       "      <td>0.0</td>\n",
       "      <td>0.0</td>\n",
       "      <td>0.0</td>\n",
       "      <td>0.0</td>\n",
       "      <td>...</td>\n",
       "      <td>0.0</td>\n",
       "      <td>0.0</td>\n",
       "      <td>0.0</td>\n",
       "      <td>0.0</td>\n",
       "      <td>0.0</td>\n",
       "      <td>0.0</td>\n",
       "      <td>0.0</td>\n",
       "      <td>0.0</td>\n",
       "      <td>0.0</td>\n",
       "      <td>0.0</td>\n",
       "    </tr>\n",
       "    <tr>\n",
       "      <th>96</th>\n",
       "      <td>0.0</td>\n",
       "      <td>0.0</td>\n",
       "      <td>0.0</td>\n",
       "      <td>0.0</td>\n",
       "      <td>0.0</td>\n",
       "      <td>0.0</td>\n",
       "      <td>0.0</td>\n",
       "      <td>0.0</td>\n",
       "      <td>0.0</td>\n",
       "      <td>0.0</td>\n",
       "      <td>...</td>\n",
       "      <td>0.0</td>\n",
       "      <td>0.0</td>\n",
       "      <td>0.0</td>\n",
       "      <td>0.0</td>\n",
       "      <td>0.0</td>\n",
       "      <td>0.0</td>\n",
       "      <td>0.0</td>\n",
       "      <td>0.0</td>\n",
       "      <td>0.0</td>\n",
       "      <td>0.0</td>\n",
       "    </tr>\n",
       "    <tr>\n",
       "      <th>97</th>\n",
       "      <td>0.0</td>\n",
       "      <td>0.0</td>\n",
       "      <td>0.0</td>\n",
       "      <td>0.0</td>\n",
       "      <td>0.0</td>\n",
       "      <td>0.0</td>\n",
       "      <td>0.0</td>\n",
       "      <td>0.0</td>\n",
       "      <td>0.0</td>\n",
       "      <td>0.0</td>\n",
       "      <td>...</td>\n",
       "      <td>0.0</td>\n",
       "      <td>0.0</td>\n",
       "      <td>0.0</td>\n",
       "      <td>0.0</td>\n",
       "      <td>0.0</td>\n",
       "      <td>0.0</td>\n",
       "      <td>0.0</td>\n",
       "      <td>0.0</td>\n",
       "      <td>0.0</td>\n",
       "      <td>0.0</td>\n",
       "    </tr>\n",
       "    <tr>\n",
       "      <th>98</th>\n",
       "      <td>0.0</td>\n",
       "      <td>0.0</td>\n",
       "      <td>0.0</td>\n",
       "      <td>0.0</td>\n",
       "      <td>0.0</td>\n",
       "      <td>0.0</td>\n",
       "      <td>0.0</td>\n",
       "      <td>0.0</td>\n",
       "      <td>0.0</td>\n",
       "      <td>0.0</td>\n",
       "      <td>...</td>\n",
       "      <td>0.0</td>\n",
       "      <td>0.0</td>\n",
       "      <td>0.0</td>\n",
       "      <td>0.0</td>\n",
       "      <td>0.0</td>\n",
       "      <td>0.0</td>\n",
       "      <td>0.0</td>\n",
       "      <td>0.0</td>\n",
       "      <td>0.0</td>\n",
       "      <td>0.0</td>\n",
       "    </tr>\n",
       "    <tr>\n",
       "      <th>99</th>\n",
       "      <td>0.0</td>\n",
       "      <td>0.0</td>\n",
       "      <td>0.0</td>\n",
       "      <td>0.0</td>\n",
       "      <td>0.0</td>\n",
       "      <td>0.0</td>\n",
       "      <td>0.0</td>\n",
       "      <td>0.0</td>\n",
       "      <td>0.0</td>\n",
       "      <td>0.0</td>\n",
       "      <td>...</td>\n",
       "      <td>0.0</td>\n",
       "      <td>0.0</td>\n",
       "      <td>0.0</td>\n",
       "      <td>0.0</td>\n",
       "      <td>0.0</td>\n",
       "      <td>0.0</td>\n",
       "      <td>0.0</td>\n",
       "      <td>0.0</td>\n",
       "      <td>0.0</td>\n",
       "      <td>0.0</td>\n",
       "    </tr>\n",
       "  </tbody>\n",
       "</table>\n",
       "<p>100 rows × 59356 columns</p>\n",
       "</div>"
      ],
      "text/plain": [
       "     aa  aa billion  aa footbal  aaa  aapl  aaron  aaron peirsol  \\\n",
       "0   0.0         0.0         0.0  0.0   0.0    0.0            0.0   \n",
       "1   0.0         0.0         0.0  0.0   0.0    0.0            0.0   \n",
       "2   0.0         0.0         0.0  0.0   0.0    0.0            0.0   \n",
       "3   0.0         0.0         0.0  0.0   0.0    0.0            0.0   \n",
       "4   0.0         0.0         0.0  0.0   0.0    0.0            0.0   \n",
       "..  ...         ...         ...  ...   ...    ...            ...   \n",
       "95  0.0         0.0         0.0  0.0   0.0    0.0            0.0   \n",
       "96  0.0         0.0         0.0  0.0   0.0    0.0            0.0   \n",
       "97  0.0         0.0         0.0  0.0   0.0    0.0            0.0   \n",
       "98  0.0         0.0         0.0  0.0   0.0    0.0            0.0   \n",
       "99  0.0         0.0         0.0  0.0   0.0    0.0            0.0   \n",
       "\n",
       "    aaron rodger   ab  ababa  ...  zone govern  zoo  zook  zook fire  zoom  \\\n",
       "0            0.0  0.0    0.0  ...          0.0  0.0   0.0        0.0   0.0   \n",
       "1            0.0  0.0    0.0  ...          0.0  0.0   0.0        0.0   0.0   \n",
       "2            0.0  0.0    0.0  ...          0.0  0.0   0.0        0.0   0.0   \n",
       "3            0.0  0.0    0.0  ...          0.0  0.0   0.0        0.0   0.0   \n",
       "4            0.0  0.0    0.0  ...          0.0  0.0   0.0        0.0   0.0   \n",
       "..           ...  ...    ...  ...          ...  ...   ...        ...   ...   \n",
       "95           0.0  0.0    0.0  ...          0.0  0.0   0.0        0.0   0.0   \n",
       "96           0.0  0.0    0.0  ...          0.0  0.0   0.0        0.0   0.0   \n",
       "97           0.0  0.0    0.0  ...          0.0  0.0   0.0        0.0   0.0   \n",
       "98           0.0  0.0    0.0  ...          0.0  0.0   0.0        0.0   0.0   \n",
       "99           0.0  0.0    0.0  ...          0.0  0.0   0.0        0.0   0.0   \n",
       "\n",
       "    zurich  zurich challeng  zurich reuter  zurich switzerland  zvonareva  \n",
       "0      0.0              0.0            0.0                 0.0        0.0  \n",
       "1      0.0              0.0            0.0                 0.0        0.0  \n",
       "2      0.0              0.0            0.0                 0.0        0.0  \n",
       "3      0.0              0.0            0.0                 0.0        0.0  \n",
       "4      0.0              0.0            0.0                 0.0        0.0  \n",
       "..     ...              ...            ...                 ...        ...  \n",
       "95     0.0              0.0            0.0                 0.0        0.0  \n",
       "96     0.0              0.0            0.0                 0.0        0.0  \n",
       "97     0.0              0.0            0.0                 0.0        0.0  \n",
       "98     0.0              0.0            0.0                 0.0        0.0  \n",
       "99     0.0              0.0            0.0                 0.0        0.0  \n",
       "\n",
       "[100 rows x 59356 columns]"
      ]
     },
     "execution_count": 29,
     "metadata": {},
     "output_type": "execute_result"
    }
   ],
   "source": [
    "pd.DataFrame(train_arr[:100], columns=tfidf.get_feature_names_out())\n"
   ]
  },
  {
   "cell_type": "markdown",
   "metadata": {},
   "source": [
    "### Training the Model"
   ]
  },
  {
   "cell_type": "markdown",
   "metadata": {},
   "source": [
    "#### Using Multinomial Naive Bayes¶\n"
   ]
  },
  {
   "cell_type": "code",
   "execution_count": 30,
   "metadata": {},
   "outputs": [],
   "source": [
    "NB_MN=MultinomialNB(alpha=0.52)"
   ]
  },
  {
   "cell_type": "markdown",
   "metadata": {},
   "source": []
  },
  {
   "cell_type": "code",
   "execution_count": 31,
   "metadata": {},
   "outputs": [],
   "source": [
    "\n",
    "NB_MN.fit(train_arr,train_y)\n",
    "pred=NB_MN.predict(test_arr)"
   ]
  },
  {
   "cell_type": "code",
   "execution_count": 32,
   "metadata": {},
   "outputs": [
    {
     "name": "stdout",
     "output_type": "stream",
     "text": [
      "first 20 actual labels\n",
      "[3, 4, 4, 4, 4, 4, 4, 4, 4, 4, 4, 4, 4, 4, 4, 4, 4, 4, 4, 4]\n",
      "first 20 predicted labels\n",
      "[3, 4, 4, 4, 4, 4, 4, 4, 1, 4, 4, 4, 4, 4, 4, 4, 4, 4, 4, 3]\n"
     ]
    }
   ],
   "source": [
    "print(\"first 20 actual labels\")\n",
    "print(test_y.tolist()[:20])\n",
    "print(\"first 20 predicted labels\")\n",
    "print(pred.tolist()[:20])"
   ]
  },
  {
   "cell_type": "markdown",
   "metadata": {},
   "source": [
    "### Evaluation of the Model"
   ]
  },
  {
   "cell_type": "code",
   "execution_count": 33,
   "metadata": {},
   "outputs": [
    {
     "name": "stdout",
     "output_type": "stream",
     "text": [
      "F1 score of the model\n",
      "0.8956578947368421\n",
      "Accuracy of the model\n",
      "0.8956578947368421\n",
      "Accuracy of the model in percentage\n",
      "89.566 %\n"
     ]
    }
   ],
   "source": [
    "from sklearn.metrics  import f1_score,accuracy_score\n",
    "print(\"F1 score of the model\")\n",
    "print(f1_score(test_y,pred,average='micro'))\n",
    "print(\"Accuracy of the model\")\n",
    "print(accuracy_score(test_y,pred))\n",
    "print(\"Accuracy of the model in percentage\")\n",
    "print(round(accuracy_score(test_y,pred)*100,3),\"%\")"
   ]
  },
  {
   "cell_type": "code",
   "execution_count": 34,
   "metadata": {},
   "outputs": [
    {
     "data": {
      "image/png": "[encoded data removed]",
      "text/plain": [
       "<Figure size 800x800 with 1 Axes>"
      ]
     },
     "metadata": {},
     "output_type": "display_data"
    }
   ],
   "source": [
    "from sklearn.metrics import  confusion_matrix\n",
    "sns.set(font_scale=1.5)\n",
    "cof=confusion_matrix(test_y, pred)\n",
    "cof=pd.DataFrame(cof, index=[i for i in range(1,5)], columns=[i for i in range(1,5)])\n",
    "plt.figure(figsize=(8,8))\n",
    "\n",
    "sns.heatmap(cof, cmap=\"PuRd\",linewidths=1, annot=True,square=True,cbar=False,fmt='d',xticklabels=['World','Sports','Business','Science'],yticklabels=['World','Sports','Business','Science'])\n",
    "plt.xlabel(\"Predicted Class\");\n",
    "plt.ylabel(\"Actual Class\");\n",
    "\n",
    "plt.title(\"Confusion Matrix for News Article Classification\");\n"
   ]
  }
 ],
 "metadata": {
  "kernelspec": {
   "display_name": "Python 3 (ipykernel)",
   "language": "python",
   "name": "python3"
  },
  "language_info": {
   "codemirror_mode": {
    "name": "ipython",
    "version": 3
   },
   "file_extension": ".py",
   "mimetype": "text/x-python",
   "name": "python",
   "nbconvert_exporter": "python",
   "pygments_lexer": "ipython3",
   "version": "3.9.16"
  }
 },
 "nbformat": 4,
 "nbformat_minor": 2
}
